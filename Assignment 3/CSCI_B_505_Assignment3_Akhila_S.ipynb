{
 "cells": [
  {
   "cell_type": "markdown",
   "metadata": {
    "id": "xTgkMs4CXqr4"
   },
   "source": [
    "# CSCI-B 505 Applied Algorithms - Assignment 3"
   ]
  },
  {
   "cell_type": "markdown",
   "metadata": {
    "id": "-XAl9F1YX-TR"
   },
   "source": [
    "### Name : Akhila Sakiramolla\n",
    "### UID : 2000886005\n",
    "### Assignment partner : Shyam Kanuru "
   ]
  },
  {
   "cell_type": "markdown",
   "metadata": {
    "id": "PUG05Wb6YJIq"
   },
   "source": [
    "## Question 1 :  Sum of reciprocals"
   ]
  },
  {
   "cell_type": "markdown",
   "metadata": {
    "id": "yhUdXS6JYMT-"
   },
   "source": [
    "1) The given program consists of functions to calculate sum and product of an input list. To calculate sum of reciprocals of the input list, we first need to calculate inverse of all numbers in the list and then add these numbers.\n",
    "\n",
    "2) For this, I have created a function rs1, which takes an input list and creates another list with all elements inverted. Now we can use the sum function to add these numbers."
   ]
  },
  {
   "cell_type": "code",
   "execution_count": 2,
   "metadata": {
    "id": "YtsfXTy9Xp-c"
   },
   "outputs": [],
   "source": [
    "def f1(*x, **y):\n",
    "    def s1(x):\n",
    "        s = 0\n",
    "        if x:\n",
    "            for i in x:\n",
    "                s += i\n",
    "        return s\n",
    "    \n",
    "    def p1(x):\n",
    "        s = 1\n",
    "        if x:\n",
    "            for i in x:\n",
    "                s *= i\n",
    "        return s\n",
    "    \n",
    "    def rs1(x):\n",
    "        s = 0\n",
    "        if x:\n",
    "            r = [(lambda a: 1/a)(a) for a in x] # to map every element to its inverse\n",
    "            s = round(s1(r),2)                  # using above sum function to add elements\n",
    "        return s\n",
    "    \n",
    "    if y[\"action\"] == \"sum\":\n",
    "        return f\"The sum is: {s1(*x)}\"\n",
    "    elif y[\"action\"] == \"prod\":\n",
    "        return f\"The product is: {p1(*x)}\"\n",
    "    elif y[\"action\"] == \"reciprocal sum\":\n",
    "        return f\"The reciprocal sum is: {rs1(*x)}\"\n",
    "    else:\n",
    "        return f\"bad argument: {y}\""
   ]
  },
  {
   "cell_type": "code",
   "execution_count": 3,
   "metadata": {
    "colab": {
     "base_uri": "https://localhost:8080/"
    },
    "id": "Qsu1x6-WXvln",
    "outputId": "9eb55916-23f4-4766-d831-6fd220c74d1c"
   },
   "outputs": [
    {
     "name": "stdout",
     "output_type": "stream",
     "text": [
      "The sum is: 21\n",
      "The product is: 720\n",
      "The reciprocal sum is: 2.45\n"
     ]
    }
   ],
   "source": [
    "if __name__ == '__main__':\n",
    "    xlst = [1,2,3,4,5,6]\n",
    "    \n",
    "    print(f1(xlst, action = \"sum\"))\n",
    "    print(f1(xlst, action = \"prod\"))\n",
    "    print(f1(xlst, action = \"reciprocal sum\"))"
   ]
  },
  {
   "cell_type": "markdown",
   "metadata": {
    "id": "4SH2_4O4YaV4"
   },
   "source": [
    "## Question 2 : Execute program from the console using a list of numbers and the operation"
   ]
  },
  {
   "cell_type": "markdown",
   "metadata": {},
   "source": [
    "We read the input from the console to execute the sum, product and reciprocal sum and parse it using a module called 'argparse'."
   ]
  },
  {
   "cell_type": "code",
   "execution_count": null,
   "metadata": {},
   "outputs": [],
   "source": [
    "# This code is saved as another file which i'm using to run the below codes\n",
    "\n",
    "import argparse\n",
    "\n",
    "def f1(*x, **y):\n",
    "    def s1(x):\n",
    "        s = 0\n",
    "        if x:\n",
    "            for i in x:\n",
    "                s += i\n",
    "        return s\n",
    "    \n",
    "    def p1(x):\n",
    "        s = 1\n",
    "        if x:\n",
    "            for i in x:\n",
    "                s *= i\n",
    "        return s\n",
    "    \n",
    "    def rs1(x):\n",
    "        s = 0\n",
    "        if x:\n",
    "            r = [(lambda a: 1/a)(a) for a in x] # used the lambda function to inverse every element\n",
    "            s = round(s1(r),2)                  # using the above sum function to add elements\n",
    "        return s\n",
    "    \n",
    "    if y[\"action\"] == \"sum\":\n",
    "        return f\"The sum is: {s1(*x)}\"\n",
    "    elif y[\"action\"] == \"prod\":\n",
    "        return f\"The product is: {p1(*x)}\"\n",
    "    elif y[\"action\"] == \"rec\":\n",
    "        return f\"The reciprocal sum is: {rs1(*x)}\"\n",
    "    else:\n",
    "        return f\"bad argument: {y}\"\n",
    "\n",
    "\n",
    "if __name__ == '__main__':\n",
    "\n",
    "    parser = argparse.ArgumentParser()\n",
    "    parser.add_argument('-lst', type = int, nargs='+', default = ['1'], help=\"List of numbers\")\n",
    "    parser.add_argument('-op', default = 'sum', help = \"sum, prod, rec\")\n",
    "    args = parser.parse_args()\n",
    "    print(args.lst)\n",
    "    print(args.op)\n",
    "    output = f1(args.lst, action = args.op)\n",
    "    print(output)"
   ]
  },
  {
   "cell_type": "code",
   "execution_count": 1,
   "metadata": {
    "colab": {
     "base_uri": "https://localhost:8080/"
    },
    "id": "g6V-vwNSYeDO",
    "outputId": "d7a91738-b451-4dbd-a6ea-168d85253ab6"
   },
   "outputs": [
    {
     "name": "stdout",
     "output_type": "stream",
     "text": [
      "[1, 2, 3, 4, 5]\n",
      "sum\n",
      "The sum is: 15\n"
     ]
    }
   ],
   "source": [
    "! python A3_Q2.py -lst 1 2 3 4 5 -op sum"
   ]
  },
  {
   "cell_type": "code",
   "execution_count": 2,
   "metadata": {
    "colab": {
     "base_uri": "https://localhost:8080/"
    },
    "id": "QBLKuWI0YgKr",
    "outputId": "f37ef86b-b8cc-4a42-d0fa-d21e90f5e873"
   },
   "outputs": [
    {
     "name": "stdout",
     "output_type": "stream",
     "text": [
      "[1, 2, 3, 4, 5]\n",
      "prod\n",
      "The product is: 120\n"
     ]
    }
   ],
   "source": [
    "! python A3_Q2.py -lst 1 2 3 4 5 -op prod"
   ]
  },
  {
   "cell_type": "code",
   "execution_count": 3,
   "metadata": {
    "colab": {
     "base_uri": "https://localhost:8080/"
    },
    "id": "1fPPzfE6YhX0",
    "outputId": "16b32aa6-4be2-4a5a-97a8-80195ace39e7"
   },
   "outputs": [
    {
     "name": "stdout",
     "output_type": "stream",
     "text": [
      "[1, 2, 3, 4, 5]\n",
      "rec\n",
      "The reciprocal sum is: 2.28\n"
     ]
    }
   ],
   "source": [
    "! python A3_Q2.py -lst 1 2 3 4 5 -op rec"
   ]
  },
  {
   "cell_type": "markdown",
   "metadata": {
    "id": "XkVqjLcXYkkh"
   },
   "source": [
    "## Question 3 : Complex number multiplication"
   ]
  },
  {
   "cell_type": "markdown",
   "metadata": {
    "id": "mjQQTRXbYpTv"
   },
   "source": [
    "1) The given function consists of function to add complex numbers. To calculate product of complex numbers, I have created a function to multiply and add the real and imaginary parts of the complex numbers.\n",
    "\n",
    "2) For example: \n",
    "Consider two complex numbers a and b, below is their multiplication"
   ]
  },
  {
   "cell_type": "markdown",
   "metadata": {},
   "source": [
    "    a = (re1 + im1)\n",
    "    b = (re2 + im2)\n",
    "    for a*b = (re1 + im1) * (re2 + im2)\n",
    "            = (re1*re2) + (re1*im2) + (im1*re2) + (im1*im2)\n",
    "        re(a*b) = (re1*re2) + (im1*im2)\n",
    "        im(a*b) = (re1*im2) + (im1*re2)"
   ]
  },
  {
   "cell_type": "code",
   "execution_count": 1,
   "metadata": {
    "id": "2hcORTQ9YnOK"
   },
   "outputs": [
    {
     "name": "stdout",
     "output_type": "stream",
     "text": [
      "(1-3i)\n",
      "(-1+3i)\n",
      "(1+3i)\n",
      "(-1-3i)\n",
      "(100+0i)\n",
      "(100+0j)\n",
      "(100+0i)\n"
     ]
    }
   ],
   "source": [
    "class complex_:\n",
    "    def __init__(self, re=0, im=0):\n",
    "        self.re = re\n",
    "        self.im = im\n",
    "\n",
    "    def get_re(self):\n",
    "        return self.re\n",
    "    \n",
    "    def get_im(self):\n",
    "        return self.im\n",
    "\n",
    "    def __str__(self):\n",
    "        g = lambda x:\"+\" if x >= 0 else \"\"\n",
    "        return f\"({self.re}{g(self.im)}{self.im}i)\"\n",
    "     \n",
    "    def cadd(self, other):\n",
    "        new_re = self.get_re() + other.get_re()\n",
    "        new_im = self.get_im() + other.get_im()\n",
    "        return complex_(new_re, new_im)\n",
    "    \n",
    "    def __add__(self, other):\n",
    "        new_re = self.get_re() + other.get_re()\n",
    "        new_im = self.get_im() + other.get_im()\n",
    "        return complex_(new_re, new_im)\n",
    "    \n",
    "    def cmul(self, other):\n",
    "        new_re = (self.get_re() * other.get_re()) - (self.get_im() * other.get_im())\n",
    "        new_im = (self.get_re() * other.get_im()) + (self.get_im() * other.get_re())\n",
    "        return complex_(new_re, new_im)\n",
    "    \n",
    "    def __mul__(self, other):\n",
    "        new_re = (self.get_re() * other.get_re()) - (self.get_im() * other.get_im())\n",
    "        new_im = (self.get_re() * other.get_im()) + (self.get_im() * other.get_re())\n",
    "        return complex_(new_re, new_im)\n",
    "    \n",
    "if __name__ =='__main__':\n",
    "    w = complex_(1,-3)\n",
    "    x = complex_(-1,3)\n",
    "    y = complex_(1,3)\n",
    "    z = complex_(-1,-3)\n",
    "    print(w)\n",
    "    print(x)\n",
    "    print(y)\n",
    "    print(z)\n",
    "    \n",
    "    # Computing the complex number multiplication in different ways to verify the result\n",
    "    print(w.cmul(x).cmul(y).cmul(z))\n",
    "    print((1-3j) * (-1+3j) * (1+3j) * (-1-3j))\n",
    "    print(w * x * y * z)"
   ]
  },
  {
   "cell_type": "markdown",
   "metadata": {
    "id": "xc3D5I4aY2E2"
   },
   "source": [
    "## Question 4 - Visualisation of running times for 3 functions"
   ]
  },
  {
   "cell_type": "markdown",
   "metadata": {
    "id": "hq41DCPMY4XJ"
   },
   "source": [
    "To calculate the execution time for each function, I have used an in-built python library called \"timeit\". I stored the time before and after execution of each function and the difference of these times gives me the the running time of the functions"
   ]
  },
  {
   "cell_type": "code",
   "execution_count": 14,
   "metadata": {
    "id": "mg4_iuZxYzxg"
   },
   "outputs": [],
   "source": [
    "import matplotlib.pyplot as plt\n",
    "import numpy as np\n",
    "import timeit"
   ]
  },
  {
   "cell_type": "code",
   "execution_count": 15,
   "metadata": {
    "id": "AvQFvLajY7j_"
   },
   "outputs": [],
   "source": [
    "def average1(S):\n",
    "    #S:sequence\n",
    "    n = len(S)\n",
    "    my_average = [0] * n\n",
    "    for j in range(n):\n",
    "        total = 0\n",
    "        for i in range(j + 1):\n",
    "            total += S[i]\n",
    "            my_average[j] = total / (j+1)\n",
    "    \n",
    "    return my_average\n",
    "\n",
    "def average2(S):\n",
    "    #S:sequence\n",
    "    n = len(S)\n",
    "    my_average= [0] * n\n",
    "    for j in range(n):\n",
    "        my_average[j] = sum(S[0:j+1]) / (j+1)\n",
    "    return my_average\n",
    "\n",
    "def average3(S):\n",
    "    #S:sequence\n",
    "    n = len(S)\n",
    "    my_average = [0] * n\n",
    "    total = 0\n",
    "    for j in range(n):\n",
    "        total += S[j]\n",
    "        my_average[j] = total / (j+1)\n",
    "    return my_average"
   ]
  },
  {
   "cell_type": "code",
   "execution_count": 16,
   "metadata": {
    "colab": {
     "base_uri": "https://localhost:8080/",
     "height": 517
    },
    "id": "26hv7V5fY8iz",
    "outputId": "ae01483f-a755-4768-8b0e-affc2a4967da"
   },
   "outputs": [
    {
     "data": {
      "image/png": "[encoded data removed]",
      "text/plain": [
       "<Figure size 576x576 with 1 Axes>"
      ]
     },
     "metadata": {
      "needs_background": "light"
     },
     "output_type": "display_data"
    }
   ],
   "source": [
    "# Initialising 3 lists to store run times for 3 algorithms for every iteration\n",
    "avg1_time = []\n",
    "avg2_time = []\n",
    "avg3_time = []\n",
    "\n",
    "# Creating a list starting from size 100 to 10,000, to run iterations for different sizes of inputs\n",
    "input_list = list(range(100,10000,500))\n",
    "\n",
    "for i in input_list:  \n",
    "    S = list(range(i))        # Creating a list for the given input size\n",
    "    \n",
    "    start1 = timeit.default_timer()  # Storing time at the start of the function execution\n",
    "    average1(S)               # Function execution for the given input\n",
    "    end1 = timeit.default_timer()    # Storing time at the end of the function execution\n",
    "    a = end1 - start1         # Calculating the time taken for executing the function\n",
    "    \n",
    "    start2 = timeit.default_timer()  # Storing time at the start of the function execution\n",
    "    average2(S)               # Function execution for the given input\n",
    "    end2 = timeit.default_timer()    # Storing time at the end of the function execution\n",
    "    b = end2 - start2         # Calculating the time taken for executing the function\n",
    "    \n",
    "    start3 = timeit.default_timer()  # Storing time at the start of the function execution\n",
    "    average3(S)               # Function execution for the given input\n",
    "    end3 = timeit.default_timer()    # Storing time at the end of the function execution\n",
    "    c = end3 - start3         # Calculating the time taken for executing the function\n",
    "    \n",
    "    avg1_time.append(a)   # Appending the execution time in a list for each iteration of average1 function\n",
    "    avg2_time.append(b)   # Appending the execution time in a list for each iteration of average2 function\n",
    "    avg3_time.append(c)   # Appending the execution time in a list for each iteration of average3 function\n",
    "    \n",
    "#Creating a log-log plot for the execution of 3 functions as a function of input sizes\n",
    "plt.figure(figsize=(8, 8))\n",
    "plt.xlabel('Function execution time') \n",
    "plt.ylabel('Input size') \n",
    "plt.title(\"Loglog graph of function running times as a function of input size\")\n",
    "plt.loglog(input_list, avg1_time, label = \"average1 execution time\", marker =\"o\")\n",
    "plt.loglog(input_list, avg2_time, label = \"average2 execution time\", marker =\"o\")\n",
    "plt.loglog(input_list, avg3_time, label = \"average3 execution time\", marker =\"o\")\n",
    "plt.legend()\n",
    "plt.show()"
   ]
  },
  {
   "cell_type": "markdown",
   "metadata": {
    "id": "9PSlzxn7ZAEt"
   },
   "source": [
    "## Question 5 : Largest value of input size such that given algorithm runs in less than 45 seconds"
   ]
  },
  {
   "cell_type": "markdown",
   "metadata": {},
   "source": [
    "I have tried and tested different range of values to find the largest input that runs in less than 45 seconds. I have run the codes below for those final ranges of values "
   ]
  },
  {
   "cell_type": "code",
   "execution_count": 27,
   "metadata": {
    "id": "f_ZGqeoMZS9h"
   },
   "outputs": [],
   "source": [
    "import random\n",
    "import time"
   ]
  },
  {
   "cell_type": "code",
   "execution_count": 17,
   "metadata": {
    "id": "l4wfG6M_Y91p"
   },
   "outputs": [],
   "source": [
    "def algorithm1(S):\n",
    "    #S:sequence\n",
    "    for j in range(len(S)):\n",
    "        for k in range(j+1, len(S)):\n",
    "            if S[j] == S[k]:\n",
    "                return False\n",
    "    return True\n",
    "\n",
    "def algorithm2(S):\n",
    "    #S:sequence\n",
    "    S = sorted(S)\n",
    "    for j in range(1, len(S)):\n",
    "        if S[j-1] == S[j]:\n",
    "            return False\n",
    "    return True\n",
    "\n",
    "def algorithm3(S, start, stop):\n",
    "    #slice S[start:stop], S:sequence\n",
    "    if stop - start <= 1: return True\n",
    "    elif not algorithm3(S, start, stop-1): return False\n",
    "    elif not algorithm3(S, start+1, stop): return False\n",
    "    else: return S[start] != S[stop-1]"
   ]
  },
  {
   "cell_type": "code",
   "execution_count": 21,
   "metadata": {
    "id": "-40k_sCNZYvl"
   },
   "outputs": [],
   "source": [
    "# Function to calculate the execution time for all the 3 algorithms\n",
    "def run_time(algo,S):\n",
    "  if algo in [algorithm1,algorithm2]:\n",
    "    start = time.time()\n",
    "    algo(S)\n",
    "    return time.time()-start\n",
    "  else:\n",
    "    start = time.time()\n",
    "    algorithm3(S, start=0, stop=len(S))\n",
    "    return time.time()-start"
   ]
  },
  {
   "cell_type": "code",
   "execution_count": 28,
   "metadata": {
    "colab": {
     "base_uri": "https://localhost:8080/",
     "height": 295
    },
    "id": "BUP8lKmiZB_5",
    "outputId": "203f988e-cebf-4524-ba5d-41b91d4fa121"
   },
   "outputs": [
    {
     "data": {
      "image/png": "[encoded data removed]",
      "text/plain": [
       "<Figure size 432x288 with 1 Axes>"
      ]
     },
     "metadata": {
      "needs_background": "light"
     },
     "output_type": "display_data"
    }
   ],
   "source": [
    "# Initialising lists to store the runtime and input size for every iteration\n",
    "li1 = []\n",
    "size1 = []\n",
    "for i in range(1,5):\n",
    "  randomlist = random.sample(range(1,10**5),3*10**i)\n",
    "  size1.append(3*10**i)\n",
    "  li1.append(run_time(algorithm1,randomlist))\n",
    "  \n",
    "plt.plot(size1,li1)\n",
    "plt.xlabel('Input Size')\n",
    "plt.ylabel('Running time')\n",
    "plt.title('To determine the largest value of input size that Algorithm1 takes in less than 45 secs.')\n",
    "plt.axhline(y = 45 , color = 'r', linestyle = '--')\n",
    "plt.show()"
   ]
  },
  {
   "cell_type": "code",
   "execution_count": 29,
   "metadata": {
    "colab": {
     "base_uri": "https://localhost:8080/",
     "height": 295
    },
    "id": "f5MjsEinZE56",
    "outputId": "f20acf49-14ab-4847-c3e5-424d8913895e"
   },
   "outputs": [
    {
     "data": {
      "image/png": "[encoded data removed]",
      "text/plain": [
       "<Figure size 432x288 with 1 Axes>"
      ]
     },
     "metadata": {
      "needs_background": "light"
     },
     "output_type": "display_data"
    }
   ],
   "source": [
    "# Initialising lists to store the runtime and input size for every iteration\n",
    "li2 = []\n",
    "size2 =[]\n",
    "for i in range(1,8):\n",
    "  randomlist = random.sample(range(1,10**9),4*10**i)\n",
    "  size2.append(4*10**i)\n",
    "  li2.append(run_time(algorithm2,randomlist))\n",
    "\n",
    "plt.plot(size2,li2)\n",
    "plt.xlabel('Input Size')\n",
    "plt.ylabel('Running time')\n",
    "plt.title('To determine the largest value of input size that Algorithm2 takes in less than 45 secs.')\n",
    "plt.axhline(y = 45 , color = 'r', linestyle = '--')\n",
    "plt.show()"
   ]
  },
  {
   "cell_type": "code",
   "execution_count": 30,
   "metadata": {
    "colab": {
     "base_uri": "https://localhost:8080/",
     "height": 295
    },
    "id": "Wsru1TNaZGPn",
    "outputId": "28333031-532d-4568-8b2a-93f69eaaca37"
   },
   "outputs": [
    {
     "data": {
      "image/png": "[encoded data removed]",
      "text/plain": [
       "<Figure size 432x288 with 1 Axes>"
      ]
     },
     "metadata": {
      "needs_background": "light"
     },
     "output_type": "display_data"
    }
   ],
   "source": [
    "# Initialising lists to store the runtime and input size for every iteration\n",
    "size3 = []\n",
    "li3 = []\n",
    "for i in range(1,7):\n",
    "  randomlist = random.sample(range(1,100),i*5)\n",
    "  size3.append(i*5)\n",
    "  li3.append(run_time(algorithm3,randomlist))\n",
    "\n",
    "plt.plot(size3,li3)\n",
    "plt.xlabel('Input Size')\n",
    "plt.ylabel('Running time')\n",
    "plt.title('To determine the largest value of input size that Algorithm3 takes in less than 45 secs.')\n",
    "plt.axhline(y = 45 , color = 'r', linestyle = '--')\n",
    "plt.show()"
   ]
  },
  {
   "cell_type": "code",
   "execution_count": null,
   "metadata": {
    "id": "UlhdZmVJZZmd"
   },
   "outputs": [],
   "source": []
  }
 ],
 "metadata": {
  "colab": {
   "name": "CSCI-B 505_Assignment3_Akhila S.ipynb",
   "provenance": []
  },
  "kernelspec": {
   "display_name": "Python 3",
   "language": "python",
   "name": "python3"
  },
  "language_info": {
   "codemirror_mode": {
    "name": "ipython",
    "version": 3
   },
   "file_extension": ".py",
   "mimetype": "text/x-python",
   "name": "python",
   "nbconvert_exporter": "python",
   "pygments_lexer": "ipython3",
   "version": "3.8.8"
  }
 },
 "nbformat": 4,
 "nbformat_minor": 1
}
